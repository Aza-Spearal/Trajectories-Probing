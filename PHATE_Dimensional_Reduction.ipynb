{
 "cells": [
  {
   "cell_type": "code",
   "execution_count": null,
   "metadata": {},
   "outputs": [],
   "source": [
    "import json\n",
    "import numpy as np\n",
    "import matplotlib.pyplot as plt\n",
    "import torch\n",
    "device = torch.device('cuda' if torch.cuda.is_available() else 'cpu')\n",
    "\n",
    "plt.rcParams['figure.dpi'] = 200\n",
    "\n",
    "torch.set_grad_enabled(False)\n",
    "\n",
    "import os\n",
    "os.environ[\"CUDA_LAUNCH_BLOCKING\"] = \"1\"\n",
    "\n",
    "import sentence_transformers\n",
    "model = sentence_transformers.SentenceTransformer(\"Qwen/Qwen3-Embedding-0.6B\", device=device)"
   ]
  },
  {
   "cell_type": "code",
   "execution_count": null,
   "metadata": {},
   "outputs": [],
   "source": [
    "# Run this cell for the CORE dataset\n",
    "\n",
    "with open('CORE_edited.json', 'r') as f:\n",
    "    data = json.load(f)\n",
    "\n",
    "label_fullnames = {\n",
    "    \"PB\": \"Personal Blog\",\n",
    "    \"LY\": \"Lyrical\",\n",
    "    \"SP\": \"Spoken\",\n",
    "    \"IT\": \"Interview\",\n",
    "    \"ID\": \"Discussion\",\n",
    "    \"NA\": \"Narrative\",\n",
    "    \"NE\": \"News Report\",\n",
    "    \"SR\": \"Sports Report\",\n",
    "    \"NB\": \"Blog\",\n",
    "    \"HI\": \"Instructional\",\n",
    "    \"RE\": \"Recipe\",\n",
    "    \"IN\": \"Informational\",\n",
    "    \"EN\": \"Encyclopedia\",\n",
    "    \"RA\": \"Research\",\n",
    "    \"DTP\": \"Thing/person\",\n",
    "    \"FI\": \"FAQ\",\n",
    "    \"LT\": \"Legal\",\n",
    "    \"OP\": \"Opinion\",\n",
    "    \"RV\": \"Review\",\n",
    "    \"OB\": \"Opinion\",\n",
    "    \"RS\": \"Religious\",\n",
    "    \"AV\": \"Advice\",\n",
    "    \"IP\": \"Persuasion\",\n",
    "    \"DS\": \"To sell\",\n",
    "    \"ED\": \"Editorial\",\n",
    "}"
   ]
  },
  {
   "cell_type": "code",
   "execution_count": null,
   "metadata": {},
   "outputs": [],
   "source": [
    "# Run this cell for the synthetic dataset\n",
    "\n",
    "with open('synthetic.json', 'r') as f:\n",
    "    data = json.load(f)\n",
    "\n",
    "label_fullnames = {\n",
    "    \"code\": \"code\",\n",
    "    \"explanatory\": \"explanatory\",\n",
    "    \"instructional\": \"instructional\",\n",
    "    \"narrative\": \"narrative\",\n",
    "    \"speech\": \"speech\",\n",
    "}"
   ]
  },
  {
   "cell_type": "code",
   "execution_count": null,
   "metadata": {},
   "outputs": [],
   "source": [
    "labels = [item['label'] for item in data]\n",
    "unique_labels = sorted(set(labels))\n",
    "\n",
    "texts = [item['text'][:1000] for item in data]\n",
    "embeddings = model.encode(texts, show_progress_bar=True, batch_size=16)"
   ]
  },
  {
   "cell_type": "code",
   "execution_count": null,
   "metadata": {},
   "outputs": [],
   "source": [
    "import phate\n",
    "phate_operator = phate.PHATE(n_jobs=-1)\n",
    "phate_data = phate_operator.fit_transform(embeddings)"
   ]
  },
  {
   "cell_type": "code",
   "execution_count": null,
   "metadata": {},
   "outputs": [],
   "source": [
    "plt.figure(figsize=(6, 4))\n",
    "\n",
    "handles = []\n",
    "for idx, label in enumerate(unique_labels):\n",
    "    # Get indices for this label, but only take the first 200\n",
    "    indices = [i for i, l in enumerate(labels) if l == label][:200]\n",
    "    if indices:  # Only plot if there are any indices\n",
    "        scatter = plt.scatter(\n",
    "            phate_data[indices, 0],\n",
    "            phate_data[indices, 1],\n",
    "            s=3,\n",
    "            label=label_fullnames.get(label),\n",
    "            alpha=0.7,\n",
    "        )\n",
    "        handles.append(scatter)\n",
    "\n",
    "plt.xlabel(\"PHATE 1\")\n",
    "plt.ylabel(\"PHATE 2\")\n",
    "plt.xticks([])\n",
    "plt.yticks([])\n",
    "plt.legend(loc='best', markerscale=5, fontsize='9.5')\n",
    "plt.tight_layout()\n",
    "plt.show()\n"
   ]
  }
 ],
 "metadata": {
  "kernelspec": {
   "display_name": "Python 3",
   "language": "python",
   "name": "python3"
  },
  "language_info": {
   "codemirror_mode": {
    "name": "ipython",
    "version": 3
   },
   "file_extension": ".py",
   "mimetype": "text/x-python",
   "name": "python",
   "nbconvert_exporter": "python",
   "pygments_lexer": "ipython3",
   "version": "3.10.12"
  }
 },
 "nbformat": 4,
 "nbformat_minor": 2
}
