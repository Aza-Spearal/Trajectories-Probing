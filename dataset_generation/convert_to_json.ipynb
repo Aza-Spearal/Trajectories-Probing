{
 "cells": [
  {
   "cell_type": "code",
   "execution_count": 1,
   "metadata": {},
   "outputs": [],
   "source": [
    "import numpy as np\n",
    "import matplotlib.pyplot as plt"
   ]
  },
  {
   "cell_type": "code",
   "execution_count": 2,
   "metadata": {},
   "outputs": [],
   "source": [
    "dataset = np.load(\"./text_labels.npy\")"
   ]
  },
  {
   "cell_type": "code",
   "execution_count": 3,
   "metadata": {},
   "outputs": [],
   "source": [
    "wanted_lb = [\"narrative\",\"dialogue\",\"code\",\"list\",\"instructional\",\"explanatory\"]"
   ]
  },
  {
   "cell_type": "code",
   "execution_count": 10,
   "metadata": {},
   "outputs": [],
   "source": [
    "def prepare_string(strings,labels):\n",
    "    \n",
    "    \"\"\"Match them onto labels\"\"\"\n",
    "    matching =[]\n",
    "    \n",
    "    for i in range(len(strings)):\n",
    "        num =0\n",
    "        nj =99\n",
    "        for j in range(len(labels)):\n",
    "            if strings[i].strip().lower().find(labels[j]) != -1:\n",
    "                num += 1\n",
    "                nj = j        \n",
    "        if num == 1:\n",
    "            start = strings[i].strip().lower().find(labels[nj])\n",
    "            matching += [  strings[i].strip().lower()[start:start+len(labels[nj])] ]\n",
    "        else:\n",
    "            print(strings[i])\n",
    "    return matching"
   ]
  },
  {
   "cell_type": "markdown",
   "metadata": {},
   "source": [
    "# convert to jason"
   ]
  },
  {
   "cell_type": "code",
   "execution_count": 2,
   "metadata": {},
   "outputs": [
    {
     "name": "stdout",
     "output_type": "stream",
     "text": [
      "```json\n",
      "[\n",
      "  {\"text\": \"Photosynthesis is the process by which plants, algae, and certain bacteria convert carbon dioxide (CO2) from the air and water from the soil into glucose (sugar) and oxygen (O2) using energy from sunlight. This process occurs in the chloroplasts of the plant cells, particularly in the chlorophyll-containing chloroplasts of the leaves. Chlorophyll is a green pigment that plays a crucial role in the process of photosynthesis by absorbing sunlight and converting it into chemical energy.\", \"category\": \"explanatory\"}, \n",
      "  {\"text\": \"There are two main parts to the process of photosynthesis: the light-dependent reactions and the light-independent reactions (Calvin cycle).\", \"category\": \"explanatory\"}, \n",
      "  {\"text\": \"During the light-dependent reactions, light energy absorbed by chlorophyll and other pigments is used to create a high-energy molecule called ATP (adenosine triphosphate) and the reduced form of NADP+ (nicotinamide adenine dinucleotide phosphate), which is called NADPH. Water molecules are also split during this process, releasing oxygen as a byproduct. This process occurs in the thylakoid membranes of the chloroplasts.\", \"category\": \"explanatory\"}, \n",
      "  {\"text\": \"During the light-independent reactions (Calvin cycle), the ATP and NADPH produced in the light-dependent reactions are used to convert CO2 into glucose through a series of enzyme-catalyzed reactions. This process occurs in the stroma of the chloroplasts, and the end product is a simple sugar called glucose which is used as an energy source for the plant to grow and carry out its other functions.\", \"category\": \"explanatory\"}, \n",
      "  {\"text\": \"Chlorophyll is essential for photosynthesis because it absorbs light energy and initiates the cascade of reactions that leads to the production of ATP and NADPH. Chlorophyll also plays a role in the conversion of light energy into chemical energy during the light-dependent reactions by exciting electrons that then flow through an electron transport chain, leading to the production of ATP and NADPH. Additionally, the green color of chlorophyll plays a role in the capture of sunlight, as it is specifically tuned to absorb light in the blue and red regions of the spectrum, which are\", \"category\": \"explanatory\"}\n",
      "]\n",
      "```\n",
      "[{'text': 'Photosynthesis is the process by which plants, algae, and certain bacteria convert carbon dioxide (CO2) from the air and water from the soil into glucose (sugar) and oxygen (O2) using energy from sunlight. This process occurs in the chloroplasts of the plant cells, particularly in the chlorophyll-containing chloroplasts of the leaves. Chlorophyll is a green pigment that plays a crucial role in the process of photosynthesis by absorbing sunlight and converting it into chemical energy.', 'category': 'explanatory'}, {'text': 'There are two main parts to the process of photosynthesis: the light-dependent reactions and the light-independent reactions (Calvin cycle).', 'category': 'explanatory'}, {'text': 'During the light-dependent reactions, light energy absorbed by chlorophyll and other pigments is used to create a high-energy molecule called ATP (adenosine triphosphate) and the reduced form of NADP+ (nicotinamide adenine dinucleotide phosphate), which is called NADPH. Water molecules are also split during this process, releasing oxygen as a byproduct. This process occurs in the thylakoid membranes of the chloroplasts.', 'category': 'explanatory'}, {'text': 'During the light-independent reactions (Calvin cycle), the ATP and NADPH produced in the light-dependent reactions are used to convert CO2 into glucose through a series of enzyme-catalyzed reactions. This process occurs in the stroma of the chloroplasts, and the end product is a simple sugar called glucose which is used as an energy source for the plant to grow and carry out its other functions.', 'category': 'explanatory'}, {'text': 'Chlorophyll is essential for photosynthesis because it absorbs light energy and initiates the cascade of reactions that leads to the production of ATP and NADPH. Chlorophyll also plays a role in the conversion of light energy into chemical energy during the light-dependent reactions by exciting electrons that then flow through an electron transport chain, leading to the production of ATP and NADPH. Additionally, the green color of chlorophyll plays a role in the capture of sunlight, as it is specifically tuned to absorb light in the blue and red regions of the spectrum, which are', 'category': 'explanatory'}]\n"
     ]
    }
   ],
   "source": [
    "import numpy as np\n",
    "import json\n",
    "import re\n",
    "\n",
    "genre = \"explanatory\"\n",
    "texts   = np.load(\"Dataset/Approved_data/labeled_text_chunks_\" + genre + \".npy\")\n",
    "\n",
    "print(texts[0])\n",
    "\n",
    "def extract_and_load_json(text):\n",
    "    # Find everything between the first '[' and the last ']', including newlines\n",
    "    match = re.search(r\"(\\[.*\\])\", text, re.DOTALL)\n",
    "    if not match:\n",
    "        return None\n",
    "\n",
    "    # Extract the matched content\n",
    "    content = match.group(1)\n",
    "    try:\n",
    "        # Attempt to parse the extracted content as JSON\n",
    "        parsed_content = json.loads(content)\n",
    "        return parsed_content\n",
    "    except json.JSONDecodeError as e:\n",
    "        print(\"Failed to decode JSON:\", e)\n",
    "        return None\n",
    "\n",
    "parsed_content = extract_and_load_json(texts[0])\n",
    "\n",
    "print(parsed_content)\n",
    "\n",
    "data = []\n",
    "for i, text_json_literal in enumerate(texts):\n",
    "    data.append({\n",
    "        \"split_text\": extract_and_load_json(text_json_literal),\n",
    "    })\n",
    "\n",
    "with open(\"Chunked/original_\" + genre + \".json\", 'w') as f:\n",
    "    json.dump(data, f, indent=2)"
   ]
  }
 ],
 "metadata": {
  "kernelspec": {
   "display_name": ".venv",
   "language": "python",
   "name": "python3"
  },
  "language_info": {
   "codemirror_mode": {
    "name": "ipython",
    "version": 3
   },
   "file_extension": ".py",
   "mimetype": "text/x-python",
   "name": "python",
   "nbconvert_exporter": "python",
   "pygments_lexer": "ipython3",
   "version": "3.9.16"
  }
 },
 "nbformat": 4,
 "nbformat_minor": 2
}
